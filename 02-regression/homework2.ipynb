{
 "cells": [
  {
   "cell_type": "markdown",
   "id": "10e8fb35",
   "metadata": {},
   "source": [
    "# Homework 2 - Linear Regression\n",
    "\n",
    "### Dataset\n",
    "\n",
    "Car Fuel Efficiency dataset:\n",
    "```bash\n",
    "wget https://raw.githubusercontent.com/alexeygrigorev/datasets/master/car_fuel_efficiency.csv\n",
    "```\n",
    "The goal of this homework is to create a regression model for predicting the car fuel efficiency (column `'fuel_efficiency_mpg'`).\n",
    "\n",
    "### Preparing the dataset \n",
    "\n",
    "Use only the following columns:\n",
    "\n",
    "* `'engine_displacement'`,\n",
    "* `'horsepower'`,\n",
    "* `'vehicle_weight'`,\n",
    "* `'model_year'`,\n",
    "* `'fuel_efficiency_mpg'`\n",
    "\n",
    "### EDA\n",
    "\n",
    "* Look at the `fuel_efficiency_mpg` variable. Does it have a long tail?\n"
   ]
  },
  {
   "cell_type": "code",
   "execution_count": 3,
   "id": "fe6b4841",
   "metadata": {},
   "outputs": [],
   "source": [
    "import pandas as pd\n",
    "import numpy as np\n",
    "\n",
    "#in case we need to download the data\n",
    "# data = 'https://raw.githubusercontent.com/alexeygrigorev/datasets/master/car_fuel_efficiency.csv'\n",
    "# !wget $data \n",
    "\n",
    "df = pd.read_csv('../data/car_fuel_efficiency.csv')\n",
    "\n",
    "# Data cleaning\n",
    "df = df.copy()\n",
    "df = df[['engine_displacement','horsepower','vehicle_weight','model_year','fuel_efficiency_mpg']]\n",
    "\n",
    "\n",
    "\n",
    "\n",
    "\n"
   ]
  },
  {
   "cell_type": "code",
   "execution_count": 4,
   "id": "d4428dd4",
   "metadata": {},
   "outputs": [
    {
     "data": {
      "text/plain": [
       "<Axes: xlabel='fuel_efficiency_mpg', ylabel='Count'>"
      ]
     },
     "execution_count": 4,
     "metadata": {},
     "output_type": "execute_result"
    },
    {
     "data": {
      "image/png": "[encoded data removed]",
      "text/plain": [
       "<Figure size 640x480 with 1 Axes>"
      ]
     },
     "metadata": {},
     "output_type": "display_data"
    }
   ],
   "source": [
    "import matplotlib.pyplot as plt\n",
    "import seaborn as sns\n",
    "\n",
    "%matplotlib inline\n",
    "sns.histplot(df['fuel_efficiency_mpg'], bins=50)"
   ]
  },
  {
   "cell_type": "markdown",
   "id": "5b1c5abf",
   "metadata": {},
   "source": [
    "\n",
    "### Question 1\n",
    "\n",
    "There's one column with missing values. What is it?\n",
    "\n",
    "* `'engine_displacement'`\n",
    "* `'horsepower'`   <---\n",
    "* `'vehicle_weight'`\n",
    "* `'model_year'`\n"
   ]
  },
  {
   "cell_type": "code",
   "execution_count": 5,
   "id": "3c2a57a3",
   "metadata": {},
   "outputs": [
    {
     "data": {
      "application/vnd.microsoft.datawrangler.viewer.v0+json": {
       "columns": [
        {
         "name": "index",
         "rawType": "object",
         "type": "string"
        },
        {
         "name": "0",
         "rawType": "int64",
         "type": "integer"
        }
       ],
       "ref": "9e1f3206-066c-4b0d-a99b-5ed4ee65a855",
       "rows": [
        [
         "engine_displacement",
         "0"
        ],
        [
         "horsepower",
         "708"
        ],
        [
         "vehicle_weight",
         "0"
        ],
        [
         "model_year",
         "0"
        ],
        [
         "fuel_efficiency_mpg",
         "0"
        ]
       ],
       "shape": {
        "columns": 1,
        "rows": 5
       }
      },
      "text/plain": [
       "engine_displacement      0\n",
       "horsepower             708\n",
       "vehicle_weight           0\n",
       "model_year               0\n",
       "fuel_efficiency_mpg      0\n",
       "dtype: int64"
      ]
     },
     "execution_count": 5,
     "metadata": {},
     "output_type": "execute_result"
    }
   ],
   "source": [
    "df.isnull().sum()\n",
    "\n",
    "#horsepower has 708 missing columns"
   ]
  },
  {
   "cell_type": "markdown",
   "id": "99001a1d",
   "metadata": {},
   "source": [
    "\n",
    "\n",
    "### Question 2\n",
    "\n",
    "What's the median (50% percentile) for variable `'horsepower'`?\n",
    "\n",
    "- 49\n",
    "- 99\n",
    "- 149 <---\n",
    "- 199\n"
   ]
  },
  {
   "cell_type": "code",
   "execution_count": 6,
   "id": "e12acb7c",
   "metadata": {},
   "outputs": [
    {
     "data": {
      "application/vnd.microsoft.datawrangler.viewer.v0+json": {
       "columns": [
        {
         "name": "index",
         "rawType": "object",
         "type": "string"
        },
        {
         "name": "horsepower",
         "rawType": "float64",
         "type": "float"
        }
       ],
       "ref": "35e4fcd1-f28a-4bd2-ac80-f2d8fbc8d58e",
       "rows": [
        [
         "count",
         "8996.0"
        ],
        [
         "mean",
         "149.65729212983547"
        ],
        [
         "std",
         "29.879555200339446"
        ],
        [
         "min",
         "37.0"
        ],
        [
         "25%",
         "130.0"
        ],
        [
         "50%",
         "149.0"
        ],
        [
         "75%",
         "170.0"
        ],
        [
         "max",
         "271.0"
        ]
       ],
       "shape": {
        "columns": 1,
        "rows": 8
       }
      },
      "text/plain": [
       "count    8996.000000\n",
       "mean      149.657292\n",
       "std        29.879555\n",
       "min        37.000000\n",
       "25%       130.000000\n",
       "50%       149.000000\n",
       "75%       170.000000\n",
       "max       271.000000\n",
       "Name: horsepower, dtype: float64"
      ]
     },
     "execution_count": 6,
     "metadata": {},
     "output_type": "execute_result"
    }
   ],
   "source": [
    "df.horsepower.describe()\n",
    "\n",
    "#149 "
   ]
  },
  {
   "cell_type": "markdown",
   "id": "4cb38f14",
   "metadata": {},
   "source": [
    "\n",
    "### Prepare and split the dataset\n",
    "\n",
    "* Shuffle the dataset (the filtered one you created above), use seed `42`.\n",
    "* Split your data in train/val/test sets, with 60%/20%/20% distribution.\n",
    "\n",
    "Use the same code as in the lectures\n",
    "\n"
   ]
  },
  {
   "cell_type": "code",
   "execution_count": 7,
   "id": "11472f60",
   "metadata": {},
   "outputs": [
    {
     "data": {
      "text/plain": [
       "5824"
      ]
     },
     "execution_count": 7,
     "metadata": {},
     "output_type": "execute_result"
    }
   ],
   "source": [
    "n = len(df)\n",
    "\n",
    "n_val = int(n * 0.2)\n",
    "n_test = int(n * 0.2)\n",
    "n_train = n - n_val - n_test\n",
    "\n",
    "idx = np.arange(n)\n",
    "np.random.seed(42)\n",
    "np.random.shuffle(idx)\n",
    "\n",
    "\n",
    "df_train = df.iloc[idx[:n_train]]\n",
    "df_val = df.iloc[idx[n_train:n_train+n_val]]\n",
    "df_test = df.iloc[idx[n_train+n_val:]]\n",
    "\n",
    "df_train = df_train.reset_index(drop=True)\n",
    "df_val = df_val.reset_index(drop=True)\n",
    "df_test = df_test.reset_index(drop=True)\n",
    "\n",
    "y_train = df_train.fuel_efficiency_mpg.values\n",
    "y_val = df_val.fuel_efficiency_mpg.values\n",
    "y_test = df_test.fuel_efficiency_mpg.values\n",
    "\n",
    "del df_train['fuel_efficiency_mpg']\n",
    "del df_val['fuel_efficiency_mpg']\n",
    "del df_test['fuel_efficiency_mpg']\n",
    "\n",
    "len(y_train)\n",
    "\n"
   ]
  },
  {
   "cell_type": "code",
   "execution_count": 8,
   "id": "2ae72499",
   "metadata": {},
   "outputs": [
    {
     "data": {
      "application/vnd.microsoft.datawrangler.viewer.v0+json": {
       "columns": [
        {
         "name": "index",
         "rawType": "int64",
         "type": "integer"
        },
        {
         "name": "engine_displacement",
         "rawType": "int64",
         "type": "integer"
        },
        {
         "name": "horsepower",
         "rawType": "float64",
         "type": "float"
        },
        {
         "name": "vehicle_weight",
         "rawType": "float64",
         "type": "float"
        },
        {
         "name": "model_year",
         "rawType": "int64",
         "type": "integer"
        }
       ],
       "ref": "7842dff5-5170-4b75-b4a8-3e6697979334",
       "rows": [
        [
         "0",
         "220",
         "144.0",
         "2535.8875912388694",
         "2009"
        ],
        [
         "1",
         "160",
         "141.0",
         "2741.1704843893167",
         "2019"
        ],
        [
         "2",
         "230",
         "155.0",
         "2471.8802372627765",
         "2017"
        ],
        [
         "3",
         "150",
         "206.0",
         "3748.1644685764895",
         "2015"
        ],
        [
         "4",
         "300",
         "111.0",
         "2135.7163589302763",
         "2006"
        ]
       ],
       "shape": {
        "columns": 4,
        "rows": 5
       }
      },
      "text/html": [
       "<div>\n",
       "<style scoped>\n",
       "    .dataframe tbody tr th:only-of-type {\n",
       "        vertical-align: middle;\n",
       "    }\n",
       "\n",
       "    .dataframe tbody tr th {\n",
       "        vertical-align: top;\n",
       "    }\n",
       "\n",
       "    .dataframe thead th {\n",
       "        text-align: right;\n",
       "    }\n",
       "</style>\n",
       "<table border=\"1\" class=\"dataframe\">\n",
       "  <thead>\n",
       "    <tr style=\"text-align: right;\">\n",
       "      <th></th>\n",
       "      <th>engine_displacement</th>\n",
       "      <th>horsepower</th>\n",
       "      <th>vehicle_weight</th>\n",
       "      <th>model_year</th>\n",
       "    </tr>\n",
       "  </thead>\n",
       "  <tbody>\n",
       "    <tr>\n",
       "      <th>0</th>\n",
       "      <td>220</td>\n",
       "      <td>144.0</td>\n",
       "      <td>2535.887591</td>\n",
       "      <td>2009</td>\n",
       "    </tr>\n",
       "    <tr>\n",
       "      <th>1</th>\n",
       "      <td>160</td>\n",
       "      <td>141.0</td>\n",
       "      <td>2741.170484</td>\n",
       "      <td>2019</td>\n",
       "    </tr>\n",
       "    <tr>\n",
       "      <th>2</th>\n",
       "      <td>230</td>\n",
       "      <td>155.0</td>\n",
       "      <td>2471.880237</td>\n",
       "      <td>2017</td>\n",
       "    </tr>\n",
       "    <tr>\n",
       "      <th>3</th>\n",
       "      <td>150</td>\n",
       "      <td>206.0</td>\n",
       "      <td>3748.164469</td>\n",
       "      <td>2015</td>\n",
       "    </tr>\n",
       "    <tr>\n",
       "      <th>4</th>\n",
       "      <td>300</td>\n",
       "      <td>111.0</td>\n",
       "      <td>2135.716359</td>\n",
       "      <td>2006</td>\n",
       "    </tr>\n",
       "  </tbody>\n",
       "</table>\n",
       "</div>"
      ],
      "text/plain": [
       "   engine_displacement  horsepower  vehicle_weight  model_year\n",
       "0                  220       144.0     2535.887591        2009\n",
       "1                  160       141.0     2741.170484        2019\n",
       "2                  230       155.0     2471.880237        2017\n",
       "3                  150       206.0     3748.164469        2015\n",
       "4                  300       111.0     2135.716359        2006"
      ]
     },
     "execution_count": 8,
     "metadata": {},
     "output_type": "execute_result"
    }
   ],
   "source": [
    "df_train.head()"
   ]
  },
  {
   "cell_type": "markdown",
   "id": "fba7c490",
   "metadata": {},
   "source": [
    "\n",
    "### Question 3\n",
    "\n",
    "* We need to deal with missing values for the column from Q1.\n",
    "* We have two options: fill it with 0 or with the mean of this variable.\n",
    "* Try both options. For each, train a linear regression model without regularization using the code from the lessons.\n",
    "* For computing the mean, use the training only!\n",
    "* Use the validation dataset to evaluate the models and compare the RMSE of each option.\n",
    "* Round the RMSE scores to 2 decimal digits using `round(score, 2)`\n",
    "* Which option gives better RMSE?\n",
    "\n",
    "Options:\n",
    "\n",
    "- With 0\n",
    "- With mean <---\n",
    "- Both are equally good\n"
   ]
  },
  {
   "cell_type": "code",
   "execution_count": 9,
   "id": "26318c0e",
   "metadata": {},
   "outputs": [],
   "source": [
    "#option 1: df_train.fillna(0)\n",
    "#option 2: df_train.fillna(df_train.horsepower.mean())\n",
    "\n",
    "#code from the lesson:\n",
    "# Linear regression\n",
    "def train_linear_regression(X, y):\n",
    "    ones = np.ones(X.shape[0])\n",
    "    X = np.column_stack([ones, X])\n",
    "\n",
    "    XTX = X.T.dot(X)\n",
    "    XTX_inv = np.linalg.inv(XTX)\n",
    "    w_full = XTX_inv.dot(X.T).dot(y)\n",
    "    \n",
    "    return w_full[0], w_full[1:]\n",
    "\n",
    "# RMSE\n",
    "def rmse(y, y_pred):\n",
    "    se = (y - y_pred) ** 2\n",
    "    mse = se.mean()\n",
    "    return np.sqrt(mse)\n",
    "\n",
    "## Training Data prep\n",
    "#option1 - fill with 0\n",
    "def prepare_X0(df):\n",
    "    df = df.fillna(0)\n",
    "    X = df.values\n",
    "    return X\n",
    "#option2 - fill with mean\n",
    "def prepare_Xm(df):\n",
    "    df = df.fillna(df.horsepower.mean())\n",
    "    X = df.values\n",
    "    return X"
   ]
  },
  {
   "cell_type": "code",
   "execution_count": null,
   "id": "0d9aca95",
   "metadata": {},
   "outputs": [
    {
     "name": "stdout",
     "output_type": "stream",
     "text": [
      "28.827365476143953 [ 9.93613218e-05  3.54221891e-03 -5.01328015e-03  3.42992868e-04]\n",
      "28.925259953168613 [ 0.00012093  0.01030308 -0.00501009 -0.00023463]\n",
      "0.5173782638854008\n",
      "0.4636236995029561\n",
      "RMSE fill 0: 0.52\n",
      "RMSE fill mean: 0.46\n"
     ]
    }
   ],
   "source": [
    "# Training 1 - fill with 0\n",
    "X_train0 = prepare_X0(df_train)\n",
    "w0_0, w_0 = train_linear_regression(X_train0, y_train)\n",
    "\n",
    "print(w0_0, w_0)\n",
    "\n",
    "# Training 2 - fill with mean\n",
    "X_trainm = prepare_Xm(df_train)\n",
    "w0_m, w_m = train_linear_regression(X_trainm, y_train) \n",
    "\n",
    "print(w0_m, w_m)\n",
    "\n",
    "# Validation 1 - fill with 0\n",
    "X_val0 = prepare_X0(df_val)\n",
    "y_pred0 = w0_0 + X_val0.dot(w_0)\n",
    "rmse0 = rmse(y_val, y_pred0)\n",
    "print(rmse0)    \n",
    "\n",
    "\n",
    "# Validation 2 - fill with mean\n",
    "X_valm = prepare_Xm(df_val)\n",
    "y_predm = w0_m + X_valm.dot(w_m)\n",
    "rmsem = rmse(y_val, y_predm)\n",
    "print(rmsem)\n",
    "\n",
    "print('RMSE fill 0:', round(rmse0, 2))\n",
    "print('RMSE fill mean:', round(rmsem, 2))\n",
    "\n",
    "#mean is better"
   ]
  },
  {
   "cell_type": "markdown",
   "id": "ba6f15c1",
   "metadata": {},
   "source": [
    "\n",
    "\n",
    "### Question 4\n",
    "\n",
    "* Now let's train a regularized linear regression.\n",
    "* For this question, fill the NAs with 0. \n",
    "* Try different values of `r` from this list: `[0, 0.01, 0.1, 1, 5, 10, 100]`.\n",
    "* Use RMSE to evaluate the model on the validation dataset.\n",
    "* Round the RMSE scores to 2 decimal digits.\n",
    "* Which `r` gives the best RMSE?\n",
    "\n",
    "If multiple options give the same best RMSE, select the smallest `r`.\n",
    "\n",
    "Options:\n",
    "\n",
    "- 0\n",
    "- 0.01 <---\n",
    "- 1\n",
    "- 10\n",
    "- 100\n"
   ]
  },
  {
   "cell_type": "code",
   "execution_count": null,
   "id": "2b8ed1ad",
   "metadata": {},
   "outputs": [
    {
     "name": "stdout",
     "output_type": "stream",
     "text": [
      "0 0.5173782638854008 0.52\n",
      "0.01 0.5171115525772979 0.52\n",
      "0.1 0.5187525130700571 0.52\n",
      "1 0.5222348802092388 0.52\n",
      "5 0.5228916092823451 0.52\n",
      "10 0.5229812979636552 0.52\n",
      "100 0.5230636233819927 0.52\n"
     ]
    }
   ],
   "source": [
    "# linear regression with regularization code\n",
    "\n",
    "def train_linear_regression_reg(X, y, r=0.001):\n",
    "    ones = np.ones(X.shape[0])\n",
    "    X = np.column_stack([ones, X])\n",
    "\n",
    "    XTX = X.T.dot(X)\n",
    "    XTX = XTX + r * np.eye(XTX.shape[0])\n",
    "\n",
    "    XTX_inv = np.linalg.inv(XTX)\n",
    "    w_full = XTX_inv.dot(X.T).dot(y)\n",
    "    \n",
    "    return w_full[0], w_full[1:]\n",
    "\n",
    "# fill NA with 0\n",
    "X_train0 = prepare_X0(df_train)\n",
    "\n",
    "#parameters to try\n",
    "params = [0, 0.01, 0.1, 1, 5, 10, 100]\n",
    "\n",
    "for r in params:\n",
    "    w0_0, w_0 = train_linear_regression_reg(X_train0, y_train, r=r)\n",
    "    X_val0 = prepare_X0(df_val)\n",
    "    y_pred0 = w0_0 + X_val0.dot(w_0)\n",
    "    rmse0 = rmse(y_val, y_pred0)\n",
    "    print(r, rmse0, round(rmse0, 2))\n",
    "\n",
    "#0.01 is best"
   ]
  },
  {
   "cell_type": "markdown",
   "id": "8b9d244c",
   "metadata": {},
   "source": [
    "\n",
    "\n",
    "### Question 5 \n",
    "\n",
    "* We used seed 42 for splitting the data. Let's find out how selecting the seed influences our score.\n",
    "* Try different seed values: `[0, 1, 2, 3, 4, 5, 6, 7, 8, 9]`.\n",
    "* For each seed, do the train/validation/test split with 60%/20%/20% distribution.\n",
    "* Fill the missing values with 0 and train a model without regularization.\n",
    "* For each seed, evaluate the model on the validation dataset and collect the RMSE scores. \n",
    "* What's the standard deviation of all the scores? To compute the standard deviation, use `np.std`.\n",
    "* Round the result to 3 decimal digits (`round(std, 3)`)\n",
    "\n",
    "What's the value of std?\n",
    "\n",
    "- 0.001\n",
    "- 0.006 <---\n",
    "- 0.060\n",
    "- 0.600\n",
    "\n",
    "> Note: Standard deviation shows how different the values are.\n",
    "> If it's low, then all values are approximately the same.\n",
    "> If it's high, the values are different. \n",
    "> If standard deviation of scores is low, then our model is *stable*.\n",
    "\n"
   ]
  },
  {
   "cell_type": "code",
   "execution_count": null,
   "id": "1284a842",
   "metadata": {},
   "outputs": [
    {
     "name": "stdout",
     "output_type": "stream",
     "text": [
      "0 0.514295141161739 0.514\n",
      "1 0.5091424577033027 0.509\n",
      "2 0.5159337545109791 0.516\n",
      "3 0.5042021939859033 0.504\n",
      "4 0.528328936365831 0.528\n",
      "5 0.5252936009505769 0.525\n",
      "6 0.5194784145905931 0.519\n",
      "7 0.5186432031401893 0.519\n",
      "8 0.511148268458307 0.511\n",
      "9 0.5120183067679349 0.512\n",
      "Standard Deviation of RMSE: 0.006969562864228692\n"
     ]
    }
   ],
   "source": [
    "#seed list\n",
    "\n",
    "seeds = [0, 1, 2, 3, 4, 5, 6, 7, 8, 9]\n",
    "rmse_results = []\n",
    "for s in seeds:\n",
    "    np.random.seed(s)\n",
    "    np.random.shuffle(idx)\n",
    "\n",
    "    df_train = df.iloc[idx[:n_train]]\n",
    "    df_val = df.iloc[idx[n_train:n_train+n_val]]\n",
    "    df_test = df.iloc[idx[n_train+n_val:]]\n",
    "\n",
    "    df_train = df_train.reset_index(drop=True)\n",
    "    df_val = df_val.reset_index(drop=True)\n",
    "    df_test = df_test.reset_index(drop=True)\n",
    "\n",
    "    y_train = df_train.fuel_efficiency_mpg.values\n",
    "    y_val = df_val.fuel_efficiency_mpg.values\n",
    "    y_test = df_test.fuel_efficiency_mpg.values\n",
    "\n",
    "    del df_train['fuel_efficiency_mpg']\n",
    "    del df_val['fuel_efficiency_mpg']\n",
    "    del df_test['fuel_efficiency_mpg']\n",
    "\n",
    "    X_train0 = prepare_X0(df_train)\n",
    "    w0_0, w_0 = train_linear_regression(X_train0, y_train)\n",
    "\n",
    "    #print(w0_0, w_0)\n",
    "\n",
    "    X_val0 = prepare_X0(df_val)\n",
    "    y_pred0 = w0_0 + X_val0.dot(w_0)\n",
    "    rmse0 = rmse(y_val, y_pred0)\n",
    "    print(s, rmse0, round(rmse0, 3))\n",
    "    rmse_results.append(rmse0)\n",
    "\n",
    "std_rmse = np.std(rmse_results)\n",
    "\n",
    "print('Standard Deviation of RMSE:', std_rmse)\n",
    "\n",
    "#0.007~ "
   ]
  },
  {
   "cell_type": "markdown",
   "id": "2d3f274f",
   "metadata": {},
   "source": [
    "\n",
    "### Question 6\n",
    "\n",
    "* Split the dataset like previously, use seed 9.\n",
    "* Combine train and validation datasets.\n",
    "* Fill the missing values with 0 and train a model with `r=0.001`. \n",
    "* What's the RMSE on the test dataset?\n",
    "\n",
    "Options:\n",
    "\n",
    "- 0.15\n",
    "- 0.515 <---\n",
    "- 5.15\n",
    "- 51.5\n"
   ]
  },
  {
   "cell_type": "code",
   "execution_count": null,
   "id": "618fd4b3",
   "metadata": {},
   "outputs": [
    {
     "name": "stdout",
     "output_type": "stream",
     "text": [
      "25.561729162503788 [ 3.41612831e-05  3.61938289e-03 -5.01514666e-03  1.97270817e-03]\n",
      "9 0.01 0.5164533819985268 0.516\n"
     ]
    }
   ],
   "source": [
    "np.random.seed(9)\n",
    "np.random.shuffle(idx)\n",
    "\n",
    "df_train = df.iloc[idx[:n_train]]\n",
    "df_val = df.iloc[idx[n_train:n_train+n_val]]\n",
    "df_test = df.iloc[idx[n_train+n_val:]]\n",
    "\n",
    "df_train = df_train.reset_index(drop=True)\n",
    "df_val = df_val.reset_index(drop=True)\n",
    "df_test = df_test.reset_index(drop=True)\n",
    "\n",
    "y_train = df_train.fuel_efficiency_mpg.values\n",
    "y_val = df_val.fuel_efficiency_mpg.values\n",
    "y_test = df_test.fuel_efficiency_mpg.values\n",
    "\n",
    "del df_train['fuel_efficiency_mpg']\n",
    "del df_val['fuel_efficiency_mpg']\n",
    "del df_test['fuel_efficiency_mpg']\n",
    "\n",
    "df_combo = pd.concat([df_train, df_val])\n",
    "y_combo = np.concatenate([y_train, y_val])\n",
    "\n",
    "X_combo = prepare_X0(df_combo)\n",
    "test_r = 0.01\n",
    "w0_0, w_0 = train_linear_regression_reg(X_combo, y_combo, r=test_r)\n",
    "print(w0_0, w_0)\n",
    "\n",
    "X_test = prepare_X0(df_test)\n",
    "y_pred = w0_0 + X_test.dot(w_0)\n",
    "rmse0 = rmse(y_test, y_pred)\n",
    "print(s, test_r, rmse0, round(rmse0, 3))\n",
    "\n",
    "# rmse ~ 0.515"
   ]
  }
 ],
 "metadata": {
  "kernelspec": {
   "display_name": "ml-zoomcamp",
   "language": "python",
   "name": "python3"
  },
  "language_info": {
   "codemirror_mode": {
    "name": "ipython",
    "version": 3
   },
   "file_extension": ".py",
   "mimetype": "text/x-python",
   "name": "python",
   "nbconvert_exporter": "python",
   "pygments_lexer": "ipython3",
   "version": "3.11.13"
  }
 },
 "nbformat": 4,
 "nbformat_minor": 5
}
