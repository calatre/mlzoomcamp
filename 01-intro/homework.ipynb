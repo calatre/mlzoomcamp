{
 "cells": [
  {
   "cell_type": "markdown",
   "id": "f2b2d27f",
   "metadata": {},
   "source": [
    "# Homework\n",
    "\n",
    "## Set up the environment\n",
    "\n",
    "You need to install Python, NumPy, Pandas, Matplotlib, and Seaborn. For that, you can use the instructions from\n",
    "[06-environment.md](../../../01-intro/06-environment.md).\n",
    "\n",
    "## Q1. Pandas version\n",
    "\n",
    "What version of Pandas did you install?\n",
    "\n",
    "You can get the version information using the `__version__` field:\n",
    "\n",
    "```python\n",
    "pd.__version__\n",
    "```\n",
    "### Answer\n",
    "\n",
    "```python\n",
    ">>> pd.__version__\n",
    "'2.3.2'\n",
    "```\n"
   ]
  },
  {
   "cell_type": "markdown",
   "id": "af0907ce-5e40-455c-98fa-29bde9e0846e",
   "metadata": {},
   "source": [
    "## Getting the data \n",
    "\n",
    "For this homework, we'll use the Car Fuel Efficiency dataset. Download it from <a href='https://raw.githubusercontent.com/alexeygrigorev/datasets/master/car_fuel_efficiency.csv'>here</a>.\n",
    "\n",
    "You can do it with wget:\n",
    "```bash\n",
    "wget https://raw.githubusercontent.com/alexeygrigorev/datasets/master/car_fuel_efficiency.csv\n",
    "```\n",
    "\n",
    "Or just open it with your browser and click \"Save as...\"."
   ]
  },
  {
   "cell_type": "markdown",
   "id": "f98c77c5-cbbf-4c8e-82d3-6bc0e65f1eda",
   "metadata": {},
   "source": [
    "---- Saved to ../data"
   ]
  },
  {
   "cell_type": "markdown",
   "id": "3469e60a-ff13-4560-bb4a-339e92bc00d3",
   "metadata": {},
   "source": [
    "Now read it with Pandas.\n",
    "\n",
    "## Q2. Records count\n",
    "\n",
    "How many records are in the dataset?\n",
    "\n",
    "- 4704\n",
    "- 8704\n",
    "- 9704  <---\n",
    "- 17704\n",
    "\n",
    "### Answer"
   ]
  },
  {
   "cell_type": "code",
   "execution_count": 2,
   "id": "e21d9cfc-e18b-44ec-af81-299af5c04227",
   "metadata": {},
   "outputs": [
    {
     "data": {
      "application/vnd.microsoft.datawrangler.viewer.v0+json": {
       "columns": [
        {
         "name": "index",
         "rawType": "object",
         "type": "string"
        },
        {
         "name": "0",
         "rawType": "int64",
         "type": "integer"
        }
       ],
       "ref": "51aebc54-962b-4f1d-b21c-6e382ec1b6cb",
       "rows": [
        [
         "engine_displacement",
         "9704"
        ],
        [
         "num_cylinders",
         "9222"
        ],
        [
         "horsepower",
         "8996"
        ],
        [
         "vehicle_weight",
         "9704"
        ],
        [
         "acceleration",
         "8774"
        ],
        [
         "model_year",
         "9704"
        ],
        [
         "origin",
         "9704"
        ],
        [
         "fuel_type",
         "9704"
        ],
        [
         "drivetrain",
         "9704"
        ],
        [
         "num_doors",
         "9202"
        ],
        [
         "fuel_efficiency_mpg",
         "9704"
        ]
       ],
       "shape": {
        "columns": 1,
        "rows": 11
       }
      },
      "text/plain": [
       "engine_displacement    9704\n",
       "num_cylinders          9222\n",
       "horsepower             8996\n",
       "vehicle_weight         9704\n",
       "acceleration           8774\n",
       "model_year             9704\n",
       "origin                 9704\n",
       "fuel_type              9704\n",
       "drivetrain             9704\n",
       "num_doors              9202\n",
       "fuel_efficiency_mpg    9704\n",
       "dtype: int64"
      ]
     },
     "execution_count": 2,
     "metadata": {},
     "output_type": "execute_result"
    }
   ],
   "source": [
    "import pandas as pd\n",
    "\n",
    "pd.__version__\n",
    "\n",
    "df = pd.read_csv(\"../data/car_fuel_efficiency.csv\")\n",
    "\n",
    "df.count()"
   ]
  },
  {
   "cell_type": "markdown",
   "id": "7a03d1c0-67b2-4633-b1a3-d6836a43af91",
   "metadata": {},
   "source": [
    "## Q3. Fuel types\n",
    "\n",
    "How many fuel types are presented in the dataset?\n",
    "\n",
    "- 1\n",
    "- 2 <---\n",
    "- 3\n",
    "- 4\n",
    "\n",
    "### Answer"
   ]
  },
  {
   "cell_type": "code",
   "execution_count": 3,
   "id": "22dfad71-80be-4428-99be-1407c3a5c20a",
   "metadata": {},
   "outputs": [
    {
     "data": {
      "application/vnd.microsoft.datawrangler.viewer.v0+json": {
       "columns": [
        {
         "name": "fuel_type",
         "rawType": "object",
         "type": "string"
        },
        {
         "name": "count",
         "rawType": "int64",
         "type": "integer"
        }
       ],
       "ref": "f920df53-396a-4bcd-9d60-183d2b56419a",
       "rows": [
        [
         "Gasoline",
         "4898"
        ],
        [
         "Diesel",
         "4806"
        ]
       ],
       "shape": {
        "columns": 1,
        "rows": 2
       }
      },
      "text/plain": [
       "fuel_type\n",
       "Gasoline    4898\n",
       "Diesel      4806\n",
       "Name: count, dtype: int64"
      ]
     },
     "execution_count": 3,
     "metadata": {},
     "output_type": "execute_result"
    }
   ],
   "source": [
    "df['fuel_type'].value_counts()"
   ]
  },
  {
   "cell_type": "markdown",
   "id": "c4228832-b584-4dac-b233-8b76d70f5c32",
   "metadata": {},
   "source": [
    "## Q4. Missing values\n",
    "\n",
    "How many columns in the dataset have missing values?\n",
    "\n",
    "- 0\n",
    "- 1\n",
    "- 2\n",
    "- 3\n",
    "- 4 <---\n",
    "\n",
    "### Answer\n"
   ]
  },
  {
   "cell_type": "code",
   "execution_count": 7,
   "id": "7e0b82b9",
   "metadata": {},
   "outputs": [
    {
     "name": "stdout",
     "output_type": "stream",
     "text": [
      "num_cylinders    482\n",
      "horsepower       708\n",
      "acceleration     930\n",
      "num_doors        502\n",
      "dtype: int64\n"
     ]
    }
   ],
   "source": [
    "missing_values = df.isnull().sum()\n",
    "print(missing_values[missing_values > 0])"
   ]
  },
  {
   "cell_type": "markdown",
   "id": "a0846af5",
   "metadata": {},
   "source": [
    "\n",
    "\n",
    "## Q5. Max fuel efficiency\n",
    "\n",
    "What's the maximum fuel efficiency of cars from Asia?\n",
    "\n",
    "- 13.75\n",
    "- 23.75 <---\n",
    "- 33.75\n",
    "- 43.75\n",
    "\n",
    "### Answer\n"
   ]
  },
  {
   "cell_type": "code",
   "execution_count": 9,
   "id": "24dfe165",
   "metadata": {},
   "outputs": [
    {
     "data": {
      "text/plain": [
       "23.759122836520497"
      ]
     },
     "execution_count": 9,
     "metadata": {},
     "output_type": "execute_result"
    }
   ],
   "source": [
    "asian_cars = df[df['origin'] == 'Asia']\n",
    "\n",
    "asian_cars.head()\n",
    "\n",
    "asian_cars['fuel_efficiency_mpg'].max()\n"
   ]
  },
  {
   "cell_type": "markdown",
   "id": "64e3e20c",
   "metadata": {},
   "source": [
    "\n",
    "\n",
    "## Q6. Median value of horsepower\n",
    "\n",
    "1. Find the median value of the `horsepower` column in the dataset.\n",
    "2. Next, calculate the most frequent value of the same `horsepower` column.\n",
    "3. Use the `fillna` method to fill the missing values in the `horsepower` column with the most frequent value from the previous step.\n",
    "4. Now, calculate the median value of `horsepower` once again.\n",
    "\n",
    "Has it changed?\n",
    "\n",
    "\n",
    "- Yes, it increased  <---\n",
    "- Yes, it decreased\n",
    "- No\n",
    "\n",
    "### Answer\n"
   ]
  },
  {
   "cell_type": "code",
   "execution_count": 12,
   "id": "a9a5182c",
   "metadata": {},
   "outputs": [
    {
     "name": "stdout",
     "output_type": "stream",
     "text": [
      "median before: 149.0\n",
      "most frequent: 152.0\n",
      "median after filling: 152.0\n"
     ]
    }
   ],
   "source": [
    "df['horsepower'].describe()\n",
    "\n",
    "#median\n",
    "median_before = df['horsepower'].median()\n",
    "\n",
    "# most frequent from value_counts:\n",
    "most_freq = df['horsepower'].value_counts().idxmax()\n",
    "\n",
    "# fill missing with most frequent and recalc median\n",
    "filled = df['horsepower'].fillna(most_freq)\n",
    "median_after = filled.median()\n",
    "\n",
    "print(\"median before:\", median_before)\n",
    "print(\"most frequent:\", most_freq)\n",
    "print(\"median after filling:\", median_after)"
   ]
  },
  {
   "cell_type": "markdown",
   "id": "5a438627",
   "metadata": {},
   "source": [
    "\n",
    "\n",
    "\n",
    "## Q7. Sum of weights\n",
    "\n",
    "1. Select all the cars from Asia\n",
    "2. Select only columns `vehicle_weight` and `model_year`\n",
    "3. Select the first 7 values\n",
    "4. Get the underlying NumPy array. Let's call it `X`.\n",
    "5. Compute matrix-matrix multiplication between the transpose of `X` and `X`. To get the transpose, use `X.T`. Let's call the result `XTX`.\n",
    "6. Invert `XTX`.\n",
    "7. Create an array `y` with values `[1100, 1300, 800, 900, 1000, 1100, 1200]`.\n",
    "8. Multiply the inverse of `XTX` with the transpose of `X`, and then multiply the result by `y`. Call the result `w`.\n",
    "9. What's the sum of all the elements of the result?\n",
    "\n",
    "> **Note**: You just implemented linear regression. We'll talk about it in the next lesson.\n",
    "\n",
    "- 0.051\n",
    "- 0.51 <---\n",
    "- 5.1\n",
    "- 51\n",
    "\n",
    "\n",
    "### Answer"
   ]
  },
  {
   "cell_type": "code",
   "execution_count": 14,
   "id": "c32fb143",
   "metadata": {},
   "outputs": [
    {
     "name": "stdout",
     "output_type": "stream",
     "text": [
      "Sum of all elements in w: 0.5187709081074008\n"
     ]
    }
   ],
   "source": [
    "import numpy as np\n",
    "\n",
    "# cars from Asia, only vehicle_weight and model_year, first 7 values\n",
    "X = asian_cars[['vehicle_weight', 'model_year']].head(7).values\n",
    "\n",
    "# matrix multiplication X.T * X\n",
    "XTX = X.T.dot(X)\n",
    "\n",
    "# Invert XTX\n",
    "XTX_inv = np.linalg.inv(XTX)\n",
    "\n",
    "# array y\n",
    "y = np.array([1100, 1300, 800, 900, 1000, 1100, 1200])\n",
    "\n",
    "# Multiply inverse of XTX with X.T, then multiply by y\n",
    "w = XTX_inv.dot(X.T).dot(y)\n",
    "\n",
    "# 9. Sum all elements\n",
    "result = w.sum()\n",
    "print(\"Sum of all elements in w:\", result)"
   ]
  }
 ],
 "metadata": {
  "kernelspec": {
   "display_name": "ml-zoomcamp",
   "language": "python",
   "name": "python3"
  },
  "language_info": {
   "codemirror_mode": {
    "name": "ipython",
    "version": 3
   },
   "file_extension": ".py",
   "mimetype": "text/x-python",
   "name": "python",
   "nbconvert_exporter": "python",
   "pygments_lexer": "ipython3",
   "version": "3.11.13"
  }
 },
 "nbformat": 4,
 "nbformat_minor": 5
}
